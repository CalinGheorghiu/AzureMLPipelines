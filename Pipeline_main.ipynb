{
 "cells": [
  {
   "cell_type": "markdown",
   "metadata": {},
   "source": [
    "Register workspace"
   ]
  },
  {
   "cell_type": "code",
   "execution_count": 104,
   "metadata": {},
   "outputs": [],
   "source": [
    "from azureml.core import Workspace "
   ]
  },
  {
   "cell_type": "code",
   "execution_count": 105,
   "metadata": {},
   "outputs": [],
   "source": [
    "ws= Workspace.from_config(path=\"./file-path/ws_config.json\")"
   ]
  },
  {
   "cell_type": "markdown",
   "metadata": {},
   "source": [
    "Choose existing experiment"
   ]
  },
  {
   "cell_type": "code",
   "execution_count": 106,
   "metadata": {},
   "outputs": [],
   "source": [
    "from azureml.core.experiment import Experiment"
   ]
  },
  {
   "cell_type": "code",
   "execution_count": 107,
   "metadata": {
    "scrolled": true
   },
   "outputs": [
    {
     "data": {
      "text/plain": [
       "[Experiment(Name: mslearn-bike-rental,\n",
       " Workspace: Experiments),\n",
       " Experiment(Name: BrainStar,\n",
       " Workspace: Experiments),\n",
       " Experiment(Name: Hello_World1,\n",
       " Workspace: Experiments)]"
      ]
     },
     "execution_count": 107,
     "metadata": {},
     "output_type": "execute_result"
    }
   ],
   "source": [
    "Experiment.list(ws)"
   ]
  },
  {
   "cell_type": "code",
   "execution_count": 108,
   "metadata": {},
   "outputs": [],
   "source": [
    "experiment = Experiment(workspace=ws, name='BrainStar')"
   ]
  },
  {
   "cell_type": "markdown",
   "metadata": {},
   "source": [
    "Get datastore communication"
   ]
  },
  {
   "cell_type": "code",
   "execution_count": 109,
   "metadata": {},
   "outputs": [],
   "source": [
    "from azureml.core import Datastore\n",
    "def_data_store = ws.get_default_datastore()"
   ]
  },
  {
   "cell_type": "code",
   "execution_count": 110,
   "metadata": {},
   "outputs": [],
   "source": [
    "def_blob_store = Datastore(ws, \"workspaceblobstore\")"
   ]
  },
  {
   "cell_type": "code",
   "execution_count": 111,
   "metadata": {},
   "outputs": [
    {
     "data": {
      "text/plain": [
       "{\n",
       "  \"source\": [\n",
       "    \"('workspaceblobstore', 'UI/10-01-2020_021337_UTC/absence_record.csv')\"\n",
       "  ],\n",
       "  \"definition\": [\n",
       "    \"GetDatastoreFiles\",\n",
       "    \"ParseDelimited\",\n",
       "    \"DropColumns\",\n",
       "    \"SetColumnTypes\"\n",
       "  ],\n",
       "  \"registration\": {\n",
       "    \"id\": \"a7741100-71c6-482a-929d-09c835916599\",\n",
       "    \"name\": \"Absence data\",\n",
       "    \"version\": 1,\n",
       "    \"workspace\": \"Workspace.create(name='Experiments', subscription_id='516f235b-0a3a-42a9-b501-b6952a5cdfc5', resource_group='Experiments')\"\n",
       "  }\n",
       "}"
      ]
     },
     "execution_count": 111,
     "metadata": {},
     "output_type": "execute_result"
    }
   ],
   "source": [
    "from azureml.core import Dataset\n",
    "dataset = Dataset.get_by_name(ws, name='Absence data')\n",
    "dataset"
   ]
  },
  {
   "cell_type": "markdown",
   "metadata": {},
   "source": [
    "Set compute target"
   ]
  },
  {
   "cell_type": "code",
   "execution_count": 112,
   "metadata": {},
   "outputs": [],
   "source": [
    "compute_target = ws.compute_targets[\"BrainStar1\"]"
   ]
  },
  {
   "cell_type": "code",
   "execution_count": 113,
   "metadata": {
    "scrolled": true
   },
   "outputs": [
    {
     "data": {
      "text/plain": [
       "AmlCompute(workspace=Workspace.create(name='Experiments', subscription_id='516f235b-0a3a-42a9-b501-b6952a5cdfc5', resource_group='Experiments'), name=BrainStar1, id=/subscriptions/516f235b-0a3a-42a9-b501-b6952a5cdfc5/resourceGroups/Experiments/providers/Microsoft.MachineLearningServices/workspaces/Experiments/computes/BrainStar1, type=AmlCompute, provisioning_state=Succeeded, location=westeurope, tags=None)"
      ]
     },
     "execution_count": 113,
     "metadata": {},
     "output_type": "execute_result"
    }
   ],
   "source": [
    "compute_target"
   ]
  },
  {
   "cell_type": "code",
   "execution_count": 114,
   "metadata": {},
   "outputs": [],
   "source": [
    "from azureml.core.runconfig import RunConfiguration\n",
    "from azureml.core.conda_dependencies import CondaDependencies\n",
    "from azureml.core import Environment \n",
    "aml_run_config = RunConfiguration()\n",
    "# `compute_target` as defined in \"Azure Machine Learning compute\" section above\n",
    "aml_run_config.target = compute_target"
   ]
  },
  {
   "cell_type": "code",
   "execution_count": 115,
   "metadata": {},
   "outputs": [],
   "source": [
    "USE_CURATED_ENV = False\n",
    "if USE_CURATED_ENV :\n",
    "    curated_environment = Environment.get(workspace=ws, name=\"BrainStar\")\n",
    "    aml_run_config.environment = curated_environment\n",
    "else:\n",
    "    aml_run_config.environment.python.user_managed_dependencies = False\n",
    "    \n",
    "    # Add some packages relied on by data prep step\n",
    "    aml_run_config.environment.python.conda_dependencies = CondaDependencies.create(\n",
    "        conda_packages=['pandas','scikit-learn'], \n",
    "        pip_packages=['azureml-sdk', 'azureml-dataprep[fuse,pandas]'], \n",
    "        pin_sdk_version=False)"
   ]
  },
  {
   "cell_type": "code",
   "execution_count": 116,
   "metadata": {},
   "outputs": [],
   "source": [
    "from azureml.pipeline.core import PipelineData\n",
    "\n",
    "output_data1 = PipelineData(\n",
    "    \"output_data1\",\n",
    "    datastore=def_blob_store,\n",
    "    output_name=\"output_data1\")"
   ]
  },
  {
   "cell_type": "code",
   "execution_count": 117,
   "metadata": {},
   "outputs": [],
   "source": [
    "from azureml.pipeline.steps import PythonScriptStep\n",
    "dataprep_source_dir = \"./process\"\n",
    "entry_point = \"process.py\"\n",
    "# `my_dataset` as defined above\n",
    "ds_input = dataset.as_named_input('input1')\n",
    "\n",
    "# `output_data1`, `compute_target`, `aml_run_config` as defined above\n",
    "data_prep_step = PythonScriptStep(\n",
    "    script_name=entry_point,\n",
    "    source_directory=dataprep_source_dir,\n",
    "    arguments=[\"--input\", ds_input, \"--output\", output_data1],\n",
    "    inputs=[ds_input],\n",
    "    outputs=[output_data1],\n",
    "    compute_target=compute_target,\n",
    "    runconfig=aml_run_config,\n",
    "    allow_reuse=True\n",
    ")"
   ]
  },
  {
   "cell_type": "code",
   "execution_count": null,
   "metadata": {},
   "outputs": [],
   "source": []
  },
  {
   "cell_type": "code",
   "execution_count": 118,
   "metadata": {},
   "outputs": [],
   "source": [
    "steps=data_prep_step"
   ]
  },
  {
   "cell_type": "code",
   "execution_count": 119,
   "metadata": {},
   "outputs": [],
   "source": [
    "from azureml.pipeline.core import Pipeline\n",
    "pipeline1 = Pipeline(workspace=ws, steps=steps)"
   ]
  },
  {
   "cell_type": "code",
   "execution_count": 120,
   "metadata": {},
   "outputs": [
    {
     "name": "stdout",
     "output_type": "stream",
     "text": [
      "Step process.py is ready to be created [d95d964a]\n"
     ]
    },
    {
     "data": {
      "text/plain": [
       "[]"
      ]
     },
     "execution_count": 120,
     "metadata": {},
     "output_type": "execute_result"
    }
   ],
   "source": [
    "pipeline1.validate()"
   ]
  },
  {
   "cell_type": "code",
   "execution_count": 121,
   "metadata": {},
   "outputs": [
    {
     "name": "stdout",
     "output_type": "stream",
     "text": [
      "Created step process.py [d95d964a][cb05a572-6bd2-434a-b2ce-59bf0701a918], (This step will run and generate new outputs)\n",
      "Submitted PipelineRun ef31b884-8a9b-4fa2-94ee-1fd692acdfe3\n",
      "Link to Azure Machine Learning studio: https://ml.azure.com/experiments/Hello_World1/runs/ef31b884-8a9b-4fa2-94ee-1fd692acdfe3?wsid=/subscriptions/516f235b-0a3a-42a9-b501-b6952a5cdfc5/resourcegroups/Experiments/workspaces/Experiments\n"
     ]
    }
   ],
   "source": [
    "pipeline_run1 = Experiment(ws, 'Hello_World1').submit(pipeline1, regenerate_outputs=False)"
   ]
  },
  {
   "cell_type": "code",
   "execution_count": null,
   "metadata": {},
   "outputs": [],
   "source": []
  }
 ],
 "metadata": {
  "kernelspec": {
   "display_name": "Python 3",
   "language": "python",
   "name": "python3"
  },
  "language_info": {
   "codemirror_mode": {
    "name": "ipython",
    "version": 3
   },
   "file_extension": ".py",
   "mimetype": "text/x-python",
   "name": "python",
   "nbconvert_exporter": "python",
   "pygments_lexer": "ipython3",
   "version": "3.6.7"
  }
 },
 "nbformat": 4,
 "nbformat_minor": 4
}
